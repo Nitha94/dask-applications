{
 "cells": [
  {
   "cell_type": "code",
   "execution_count": 1,
   "metadata": {},
   "outputs": [
    {
     "name": "stderr",
     "output_type": "stream",
     "text": [
      "/Users/nivethamahalakshmibalasamy/Documents/ECI-PolarScience/dask_stuff/ve/lib/python2.7/site-packages/sklearn/cross_validation.py:41: DeprecationWarning: This module was deprecated in version 0.18 in favor of the model_selection module into which all the refactored classes and functions are moved. Also note that the interface of the new CV iterators are different from that of this module. This module will be removed in 0.20.\n",
      "  \"This module will be removed in 0.20.\", DeprecationWarning)\n"
     ]
    },
    {
     "name": "stdout",
     "output_type": "stream",
     "text": [
      "12\n",
      "[0, 0, 0, 0, 0, 0, 1, 1, 1, 1, 1, 1]\n",
      "             precision    recall  f1-score   support\n",
      "\n",
      "          0       0.00      0.00      0.00         2\n",
      "          1       0.00      0.00      0.00         1\n",
      "\n",
      "avg / total       0.00      0.00      0.00         3\n",
      "\n",
      "Best Estimator is:\n",
      "SVC(C=1, cache_size=200, class_weight='balanced', coef0=0.0,\n",
      "  decision_function_shape='ovr', degree=3, gamma=0.001, kernel='rbf',\n",
      "  max_iter=-1, probability=False, random_state=None, shrinking=True,\n",
      "  tol=0.001, verbose=False)\n",
      "[1 1 0]\n"
     ]
    }
   ],
   "source": [
    "from sklearn.datasets import load_digits\n",
    "from sklearn.svm import SVC\n",
    "from sklearn import cross_validation\n",
    "from sklearn import metrics\n",
    "\n",
    "import sys\n",
    "import skimage\n",
    "import matplotlib.pyplot as plt\n",
    "import matplotlib.cm as cm\n",
    "import dask\n",
    "import dask.array as da\n",
    "import numpy as np\n",
    "from dask.dot import dot_graph\n",
    "from dask.distributed import Client, LocalCluster, progress\n",
    "from dask.distributed import Scheduler\n",
    "from skimage.filters import threshold_otsu\n",
    "from skimage.feature import blob_dog, blob_log, blob_doh\n",
    "from skimage import data\n",
    "from random import randint\n",
    "# Fit with dask-searchcv\n",
    "from dask_searchcv import GridSearchCV\n",
    "\n",
    "\n",
    "param_space = {'C': [1e-4, 1, 1e4],\n",
    "               'gamma': [1e-3, 1, 1e3],\n",
    "               'class_weight': [None, 'balanced']}\n",
    "\n",
    "model = SVC(kernel='rbf')\n",
    "custom_imread = (skimage.io.imread)\n",
    "# images = [custom_imread('/Users/nivethamahalakshmibalasamy/Documents/ECI-PolarScience/nivetha/seal/s%d.jpeg' %i) for i in range(1,13)]\n",
    "# target = [0,0,0,0,0,0,0,0,0,0,0,0,0,0,0,1,1,1,1,1,1,1,1,1,1,1,1,1,1,1]\n",
    "target = [0,0,0,0,0,0,1,1,1,1,1,1]\n",
    "digits = load_digits()\n",
    "# print len(images)\n",
    "print len(target)\n",
    "# print images[0]\n",
    "print target\n",
    "\n",
    "x_train, x_test, y_train, y_test = cross_validation.train_test_split(digits.data[1:13],\n",
    "            target, test_size=0.20)\n",
    "search = GridSearchCV(model, param_space, cv=3)\n",
    "search.fit(x_train, y_train)\n",
    "# print sorted(search.cv_results_)\n",
    "print(metrics.classification_report(y_test,\n",
    "            search.predict(x_test)))\n",
    "print \"Best Estimator is:\"\n",
    "print search.best_estimator_ \n",
    "print search.best_estimator_.predict(x_test)"
   ]
  },
  {
   "cell_type": "raw",
   "metadata": {},
   "source": []
  }
 ],
 "metadata": {
  "kernelspec": {
   "display_name": "Python 2",
   "language": "python",
   "name": "python2"
  },
  "language_info": {
   "codemirror_mode": {
    "name": "ipython",
    "version": 2
   },
   "file_extension": ".py",
   "mimetype": "text/x-python",
   "name": "python",
   "nbconvert_exporter": "python",
   "pygments_lexer": "ipython2",
   "version": "2.7.12"
  }
 },
 "nbformat": 4,
 "nbformat_minor": 2
}
