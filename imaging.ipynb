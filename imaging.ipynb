{
 "cells": [
  {
   "cell_type": "code",
   "execution_count": 1,
   "metadata": {},
   "outputs": [
    {
     "name": "stdout",
     "output_type": "stream",
     "text": [
      "(223, 223)\n",
      "uint8\n"
     ]
    }
   ],
   "source": [
    "import sys\n",
    "import skimage\n",
    "import matplotlib.pyplot as plt\n",
    "import matplotlib.cm as cm\n",
    "import dask\n",
    "import dask.array as da\n",
    "import numpy as np\n",
    "from dask.dot import dot_graph\n",
    "from dask.distributed import Client, LocalCluster\n",
    "from dask.distributed import Scheduler\n",
    "from skimage.filters import threshold_otsu\n",
    "from skimage.feature import blob_dog, blob_log, blob_doh\n",
    "from skimage import data\n",
    "\n",
    "\n",
    "sample = skimage.io.imread('/Users/nivethamahalakshmibalasamy/Documents/ECI-PolarScience/dask_stuff/seal/seal1.jpeg')\n",
    "print sample.shape\n",
    "print sample.dtype"
   ]
  },
  {
   "cell_type": "code",
   "execution_count": 2,
   "metadata": {
    "collapsed": true
   },
   "outputs": [],
   "source": [
    "# Read images using delayed function into an image array\n",
    "def array_images():\n",
    "\tcustom_imread = dask.delayed(skimage.io.imread, pure = True)\n",
    "\timages = [custom_imread('/Users/nivethamahalakshmibalasamy/Documents/ECI-PolarScience/dask_stuff/seal/seal%d.jpeg' %i) for i in range(1,64)]\n",
    "\t#print images\n",
    "\timage_array = [da.from_delayed(i, sample.shape, sample.dtype) for i in images]\n",
    "\tsizes =  [j.shape for j in image_array]\n",
    "\t#print sizes\n",
    "\tstack = da.stack(image_array, axis = 0)\n",
    "\tprint stack\n",
    "\t#print stack[0]\n",
    "\t# Combining chunks - A chunk consists of 10 images\n",
    "\tstack = stack.rechunk((10, 2000, 2000))\n",
    "\tprint \"After rechunking: \"\n",
    "\ttemp = stack\n",
    "\tstack.visualize()\n",
    "\n",
    "\t# Distribute array components over workers and centralized scheduler\n",
    "\tcluster = LocalCluster()\n",
    "\tclient = Client(cluster)\n",
    "\tprint client\n",
    "\n",
    "\t# Load the entire distributed array on the cluster (4 workers, 4 cores)\n",
    "\tstack = client.persist(stack)\n",
    "\tprint \"stack.mean().compute() is %d\"%stack.mean().compute()\n",
    "\n",
    "\t# map the otsu thresholding function\n",
    "\t#print stack[0]\n",
    "\tstack = da.map_blocks(otsu_thresholding, stack, chunks = (10,2000,2000), dtype = sample.dtype)\n",
    "\t#stack = client.persist(stack)\n",
    "\t#stack = da.map_blocks(blob_detection, stack, chunks = (5,2000,2000), dtype = sample.dtype)\n",
    "\tstack = client.persist(stack)\n",
    "\tprint \"stack.mean().compute() is %d\"%stack.mean().compute()\n",
    "    \n",
    "    \n",
    "    \n",
    "    \n"
   ]
  },
  {
   "cell_type": "code",
   "execution_count": 3,
   "metadata": {
    "collapsed": true
   },
   "outputs": [],
   "source": [
    "def otsu_thresholding(image):\n",
    "\tthresh = threshold_otsu(image)\n",
    "\t#print image.shape\n",
    "\tbinary = image > thresh\n",
    "\treturn binary"
   ]
  },
  {
   "cell_type": "code",
   "execution_count": 4,
   "metadata": {},
   "outputs": [
    {
     "name": "stdout",
     "output_type": "stream",
     "text": [
      "dask.array<stack, shape=(63, 223, 223), dtype=uint8, chunksize=(1, 223, 223)>\n",
      "After rechunking: \n"
     ]
    },
    {
     "name": "stderr",
     "output_type": "stream",
     "text": [
      "distributed.deploy.local - INFO - To start diagnostics web server please install Bokeh\n"
     ]
    },
    {
     "name": "stdout",
     "output_type": "stream",
     "text": [
      "<Client: scheduler='tcp://127.0.0.1:8786' processes=4 cores=4>\n",
      "stack.mean().compute() is 70\n",
      "stack.mean().compute() is 0\n"
     ]
    }
   ],
   "source": [
    "if __name__ == '__main__':\n",
    "\tarray_images()"
   ]
  },
  {
   "cell_type": "raw",
   "metadata": {},
   "source": []
  }
 ],
 "metadata": {
  "kernelspec": {
   "display_name": "Python 2",
   "language": "python",
   "name": "python2"
  },
  "language_info": {
   "codemirror_mode": {
    "name": "ipython",
    "version": 2
   },
   "file_extension": ".py",
   "mimetype": "text/x-python",
   "name": "python",
   "nbconvert_exporter": "python",
   "pygments_lexer": "ipython2",
   "version": "2.7.12"
  }
 },
 "nbformat": 4,
 "nbformat_minor": 2
}
